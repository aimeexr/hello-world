{
  "nbformat": 4,
  "nbformat_minor": 0,
  "metadata": {
    "colab": {
      "name": "BUMK 746 Final Project.ipynb",
      "provenance": [],
      "include_colab_link": true
    },
    "kernelspec": {
      "name": "python3",
      "display_name": "Python 3"
    },
    "language_info": {
      "name": "python"
    }
  },
  "cells": [
    {
      "cell_type": "markdown",
      "metadata": {
        "id": "view-in-github",
        "colab_type": "text"
      },
      "source": [
        "<a href=\"https://colab.research.google.com/github/aimeexr/hello-world/blob/master/BUMK_746_Final_Project.ipynb\" target=\"_parent\"><img src=\"https://colab.research.google.com/assets/colab-badge.svg\" alt=\"Open In Colab\"/></a>"
      ]
    },
    {
      "cell_type": "markdown",
      "source": [
        "## Cleaning and Importing Data "
      ],
      "metadata": {
        "id": "Zw7_9k6ybRkK"
      }
    },
    {
      "cell_type": "code",
      "execution_count": null,
      "metadata": {
        "colab": {
          "base_uri": "https://localhost:8080/"
        },
        "id": "J6W-_IR7bKR-",
        "outputId": "ace090ca-34cd-4c49-a27f-e0033cf5360f"
      },
      "outputs": [
        {
          "output_type": "stream",
          "name": "stdout",
          "text": [
            "Mounted at /content/drive\n"
          ]
        }
      ],
      "source": [
        "from google.colab import drive\n",
        "drive.mount('/content/drive')"
      ]
    },
    {
      "cell_type": "code",
      "source": [
        "# import modules\n",
        "\n",
        "import numpy as np\n",
        "import pandas as pd\n",
        "\n",
        "import matplotlib\n",
        "import matplotlib.pyplot as plt\n",
        "from sklearn.metrics import confusion_matrix, plot_confusion_matrix, accuracy_score\n",
        "\n",
        "%matplotlib inline"
      ],
      "metadata": {
        "id": "VfEnrRxdbc0_"
      },
      "execution_count": null,
      "outputs": []
    },
    {
      "cell_type": "code",
      "source": [
        "#import dataset - applications have been remained\n",
        "\n",
        "train_df = pd.read_csv('/content/drive/MyDrive/Data Science Final/data/train.csv')\n",
        "#test_df = pd.read_csv('/content/drive/MyDrive/Data Science Final/data/test.csv')"
      ],
      "metadata": {
        "id": "Prh6kFp7bh3z"
      },
      "execution_count": null,
      "outputs": []
    },
    {
      "cell_type": "code",
      "source": [
        "train_df = train_df.fillna(\"\")\n",
        "#test_df = test_df.fillna(\"\")\n",
        "train_df = train_df.drop([\"Description\",\"Name\",\"RescuerID\",\"PetID\"], axis =1)\n",
        "#test_df = test_df.drop([\"Description\",\"Name\", \"RescuerID\", \"PetID\"], axis=1)"
      ],
      "metadata": {
        "id": "jZ-D_ZFvbl1g"
      },
      "execution_count": null,
      "outputs": []
    },
    {
      "cell_type": "code",
      "source": [
        "train_df.shape"
      ],
      "metadata": {
        "colab": {
          "base_uri": "https://localhost:8080/"
        },
        "id": "qAzxjOVUNSRq",
        "outputId": "54a78394-e08f-41ef-940e-56f1b567fe3e"
      },
      "execution_count": null,
      "outputs": [
        {
          "output_type": "execute_result",
          "data": {
            "text/plain": [
              "(14993, 20)"
            ]
          },
          "metadata": {},
          "execution_count": 5
        }
      ]
    },
    {
      "cell_type": "code",
      "source": [
        "#test_df.shape"
      ],
      "metadata": {
        "id": "YaQ_zJnyNZ16"
      },
      "execution_count": null,
      "outputs": []
    },
    {
      "cell_type": "markdown",
      "source": [
        "## Divide AdoptionSpeed into 2 classes"
      ],
      "metadata": {
        "id": "pcvA6OAobsLM"
      }
    },
    {
      "cell_type": "code",
      "source": [
        "# Divide AdoptionSpeed\n",
        "train_df['AdpSpeed'] = np.where(train_df['AdoptionSpeed'] == 0 & 1 , 1, 0)\n"
      ],
      "metadata": {
        "id": "HwFfjJxnbpER"
      },
      "execution_count": null,
      "outputs": []
    },
    {
      "cell_type": "code",
      "source": [
        "from sklearn.preprocessing import StandardScaler\n",
        "  \n",
        "# define standard scaler\n",
        "scaler = StandardScaler()\n",
        "\n",
        "# transform data\n",
        "train_df.columns\n",
        "train_df_std = scaler.fit_transform(train_df)\n",
        "train_df_std = pd.DataFrame(train_df_std, columns=train_df.columns)"
      ],
      "metadata": {
        "id": "jL7WUkKsuENr"
      },
      "execution_count": null,
      "outputs": []
    },
    {
      "cell_type": "code",
      "source": [
        "train_df_std.corr(method = 'pearson')"
      ],
      "metadata": {
        "id": "qa_gs_uIjgSC",
        "colab": {
          "base_uri": "https://localhost:8080/",
          "height": 801
        },
        "outputId": "e798f122-c53c-498d-a0ca-d86ef0cc7b34"
      },
      "execution_count": null,
      "outputs": [
        {
          "output_type": "execute_result",
          "data": {
            "text/plain": [
              "                   Type       Age    Breed1    Breed2    Gender    Color1  \\\n",
              "Type           1.000000 -0.147162  0.057724 -0.043568  0.060843  0.097680   \n",
              "Age           -0.147162  1.000000 -0.314346 -0.041010 -0.123423  0.090378   \n",
              "Breed1         0.057724 -0.314346  1.000000 -0.157053  0.071321 -0.035510   \n",
              "Breed2        -0.043568 -0.041010 -0.157053  1.000000  0.056907 -0.020324   \n",
              "Gender         0.060843 -0.123423  0.071321  0.056907  1.000000 -0.115351   \n",
              "Color1         0.097680  0.090378 -0.035510 -0.020324 -0.115351  1.000000   \n",
              "Color2         0.246333 -0.039427 -0.007081  0.003015  0.026507 -0.113290   \n",
              "Color3         0.201693 -0.053546 -0.000682  0.035679  0.259309 -0.282897   \n",
              "MaturitySize  -0.171811  0.093673 -0.010507  0.049879 -0.091819 -0.029468   \n",
              "FurLength      0.003036  0.153092 -0.108059  0.106220 -0.030404  0.066967   \n",
              "Vaccinated     0.102907 -0.136061  0.046518  0.005638  0.078702 -0.017475   \n",
              "Dewormed       0.025508 -0.053360  0.013216 -0.009817  0.091431 -0.019318   \n",
              "Sterilized     0.006737 -0.189450  0.052698 -0.005989  0.040645 -0.037050   \n",
              "Health        -0.006864  0.103215 -0.034893 -0.029285 -0.045177  0.024410   \n",
              "Quantity       0.036423 -0.113076  0.090194  0.038125  0.494489 -0.116688   \n",
              "Fee           -0.042134  0.089168 -0.189526  0.013508 -0.050491  0.054180   \n",
              "State          0.124549  0.024523 -0.026832 -0.037993  0.002564  0.024012   \n",
              "VideoAmt      -0.005967 -0.015969  0.020626  0.001569  0.016816 -0.006435   \n",
              "PhotoAmt       0.049368 -0.084778  0.043395  0.045953  0.098435 -0.041323   \n",
              "AdoptionSpeed -0.091240  0.100510  0.107834 -0.018642  0.057622 -0.044192   \n",
              "AdpSpeed       0.042997 -0.000008 -0.039577  0.030760 -0.013337  0.016167   \n",
              "\n",
              "                 Color2    Color3  MaturitySize  FurLength  ...  Dewormed  \\\n",
              "Type           0.246333  0.201693     -0.171811   0.003036  ...  0.025508   \n",
              "Age           -0.039427 -0.053546      0.093673   0.153092  ... -0.053360   \n",
              "Breed1        -0.007081 -0.000682     -0.010507  -0.108059  ...  0.013216   \n",
              "Breed2         0.003015  0.035679      0.049879   0.106220  ... -0.009817   \n",
              "Gender         0.026507  0.259309     -0.091819  -0.030404  ...  0.091431   \n",
              "Color1        -0.113290 -0.282897     -0.029468   0.066967  ... -0.019318   \n",
              "Color2         1.000000  0.088742     -0.065155  -0.008764  ...  0.005812   \n",
              "Color3         0.088742  1.000000     -0.051730   0.013581  ...  0.048617   \n",
              "MaturitySize  -0.065155 -0.051730      1.000000   0.095142  ... -0.067352   \n",
              "FurLength     -0.008764  0.013581      0.095142   1.000000  ...  0.016463   \n",
              "Vaccinated     0.026193  0.054053     -0.087722  -0.006010  ...  0.722596   \n",
              "Dewormed       0.005812  0.048617     -0.067352   0.016463  ...  1.000000   \n",
              "Sterilized     0.007370  0.038899     -0.066321   0.032092  ...  0.426256   \n",
              "Health        -0.004307 -0.024782     -0.012957   0.028096  ...  0.072188   \n",
              "Quantity       0.019876  0.272548     -0.042832  -0.038388  ...  0.141355   \n",
              "Fee           -0.017308 -0.019839      0.041144   0.159693  ... -0.105978   \n",
              "State          0.026944  0.010554     -0.062584  -0.029317  ... -0.001310   \n",
              "VideoAmt       0.023983  0.019526      0.017032  -0.014740  ... -0.036961   \n",
              "PhotoAmt       0.059113  0.103662      0.015593  -0.031557  ... -0.099026   \n",
              "AdoptionSpeed -0.038579 -0.007014      0.045653  -0.091337  ... -0.013210   \n",
              "AdpSpeed       0.017542  0.015538     -0.026437   0.054841  ...  0.020526   \n",
              "\n",
              "               Sterilized    Health  Quantity       Fee     State  VideoAmt  \\\n",
              "Type             0.006737 -0.006864  0.036423 -0.042134  0.124549 -0.005967   \n",
              "Age             -0.189450  0.103215 -0.113076  0.089168  0.024523 -0.015969   \n",
              "Breed1           0.052698 -0.034893  0.090194 -0.189526 -0.026832  0.020626   \n",
              "Breed2          -0.005989 -0.029285  0.038125  0.013508 -0.037993  0.001569   \n",
              "Gender           0.040645 -0.045177  0.494489 -0.050491  0.002564  0.016816   \n",
              "Color1          -0.037050  0.024410 -0.116688  0.054180  0.024012 -0.006435   \n",
              "Color2           0.007370 -0.004307  0.019876 -0.017308  0.026944  0.023983   \n",
              "Color3           0.038899 -0.024782  0.272548 -0.019839  0.010554  0.019526   \n",
              "MaturitySize    -0.066321 -0.012957 -0.042832  0.041144 -0.062584  0.017032   \n",
              "FurLength        0.032092  0.028096 -0.038388  0.159693 -0.029317 -0.014740   \n",
              "Vaccinated       0.471204  0.078893  0.125287 -0.121868  0.032737 -0.032685   \n",
              "Dewormed         0.426256  0.072188  0.141355 -0.105978 -0.001310 -0.036961   \n",
              "Sterilized       1.000000  0.057916  0.101919 -0.063790  0.009951 -0.018720   \n",
              "Health           0.057916  1.000000 -0.034567 -0.010073  0.026237 -0.004984   \n",
              "Quantity         0.101919 -0.034567  1.000000 -0.060523 -0.002182  0.008344   \n",
              "Fee             -0.063790 -0.010073 -0.060523  1.000000 -0.015758 -0.000839   \n",
              "State            0.009951  0.026237 -0.002182 -0.015758  1.000000 -0.027456   \n",
              "VideoAmt        -0.018720 -0.004984  0.008344 -0.000839 -0.027456  1.000000   \n",
              "PhotoAmt        -0.062067 -0.023978  0.137839  0.005103  0.001873  0.227231   \n",
              "AdoptionSpeed   -0.083447  0.029382  0.062931 -0.004017  0.013119 -0.000571   \n",
              "AdpSpeed         0.025403  0.008172 -0.018384  0.001765  0.007505  0.002042   \n",
              "\n",
              "               PhotoAmt  AdoptionSpeed  AdpSpeed  \n",
              "Type           0.049368      -0.091240  0.042997  \n",
              "Age           -0.084778       0.100510 -0.000008  \n",
              "Breed1         0.043395       0.107834 -0.039577  \n",
              "Breed2         0.045953      -0.018642  0.030760  \n",
              "Gender         0.098435       0.057622 -0.013337  \n",
              "Color1        -0.041323      -0.044192  0.016167  \n",
              "Color2         0.059113      -0.038579  0.017542  \n",
              "Color3         0.103662      -0.007014  0.015538  \n",
              "MaturitySize   0.015593       0.045653 -0.026437  \n",
              "FurLength     -0.031557      -0.091337  0.054841  \n",
              "Vaccinated    -0.052719      -0.059043  0.013602  \n",
              "Dewormed      -0.099026      -0.013210  0.020526  \n",
              "Sterilized    -0.062067      -0.083447  0.025403  \n",
              "Health        -0.023978       0.029382  0.008172  \n",
              "Quantity       0.137839       0.062931 -0.018384  \n",
              "Fee            0.005103      -0.004017  0.001765  \n",
              "State          0.001873       0.013119  0.007505  \n",
              "VideoAmt       0.227231      -0.000571  0.002042  \n",
              "PhotoAmt       1.000000      -0.023233 -0.027155  \n",
              "AdoptionSpeed -0.023233       1.000000 -0.358423  \n",
              "AdpSpeed      -0.027155      -0.358423  1.000000  \n",
              "\n",
              "[21 rows x 21 columns]"
            ],
            "text/html": [
              "\n",
              "  <div id=\"df-5bb36c44-89e4-489f-9345-9ff9433e2415\">\n",
              "    <div class=\"colab-df-container\">\n",
              "      <div>\n",
              "<style scoped>\n",
              "    .dataframe tbody tr th:only-of-type {\n",
              "        vertical-align: middle;\n",
              "    }\n",
              "\n",
              "    .dataframe tbody tr th {\n",
              "        vertical-align: top;\n",
              "    }\n",
              "\n",
              "    .dataframe thead th {\n",
              "        text-align: right;\n",
              "    }\n",
              "</style>\n",
              "<table border=\"1\" class=\"dataframe\">\n",
              "  <thead>\n",
              "    <tr style=\"text-align: right;\">\n",
              "      <th></th>\n",
              "      <th>Type</th>\n",
              "      <th>Age</th>\n",
              "      <th>Breed1</th>\n",
              "      <th>Breed2</th>\n",
              "      <th>Gender</th>\n",
              "      <th>Color1</th>\n",
              "      <th>Color2</th>\n",
              "      <th>Color3</th>\n",
              "      <th>MaturitySize</th>\n",
              "      <th>FurLength</th>\n",
              "      <th>...</th>\n",
              "      <th>Dewormed</th>\n",
              "      <th>Sterilized</th>\n",
              "      <th>Health</th>\n",
              "      <th>Quantity</th>\n",
              "      <th>Fee</th>\n",
              "      <th>State</th>\n",
              "      <th>VideoAmt</th>\n",
              "      <th>PhotoAmt</th>\n",
              "      <th>AdoptionSpeed</th>\n",
              "      <th>AdpSpeed</th>\n",
              "    </tr>\n",
              "  </thead>\n",
              "  <tbody>\n",
              "    <tr>\n",
              "      <th>Type</th>\n",
              "      <td>1.000000</td>\n",
              "      <td>-0.147162</td>\n",
              "      <td>0.057724</td>\n",
              "      <td>-0.043568</td>\n",
              "      <td>0.060843</td>\n",
              "      <td>0.097680</td>\n",
              "      <td>0.246333</td>\n",
              "      <td>0.201693</td>\n",
              "      <td>-0.171811</td>\n",
              "      <td>0.003036</td>\n",
              "      <td>...</td>\n",
              "      <td>0.025508</td>\n",
              "      <td>0.006737</td>\n",
              "      <td>-0.006864</td>\n",
              "      <td>0.036423</td>\n",
              "      <td>-0.042134</td>\n",
              "      <td>0.124549</td>\n",
              "      <td>-0.005967</td>\n",
              "      <td>0.049368</td>\n",
              "      <td>-0.091240</td>\n",
              "      <td>0.042997</td>\n",
              "    </tr>\n",
              "    <tr>\n",
              "      <th>Age</th>\n",
              "      <td>-0.147162</td>\n",
              "      <td>1.000000</td>\n",
              "      <td>-0.314346</td>\n",
              "      <td>-0.041010</td>\n",
              "      <td>-0.123423</td>\n",
              "      <td>0.090378</td>\n",
              "      <td>-0.039427</td>\n",
              "      <td>-0.053546</td>\n",
              "      <td>0.093673</td>\n",
              "      <td>0.153092</td>\n",
              "      <td>...</td>\n",
              "      <td>-0.053360</td>\n",
              "      <td>-0.189450</td>\n",
              "      <td>0.103215</td>\n",
              "      <td>-0.113076</td>\n",
              "      <td>0.089168</td>\n",
              "      <td>0.024523</td>\n",
              "      <td>-0.015969</td>\n",
              "      <td>-0.084778</td>\n",
              "      <td>0.100510</td>\n",
              "      <td>-0.000008</td>\n",
              "    </tr>\n",
              "    <tr>\n",
              "      <th>Breed1</th>\n",
              "      <td>0.057724</td>\n",
              "      <td>-0.314346</td>\n",
              "      <td>1.000000</td>\n",
              "      <td>-0.157053</td>\n",
              "      <td>0.071321</td>\n",
              "      <td>-0.035510</td>\n",
              "      <td>-0.007081</td>\n",
              "      <td>-0.000682</td>\n",
              "      <td>-0.010507</td>\n",
              "      <td>-0.108059</td>\n",
              "      <td>...</td>\n",
              "      <td>0.013216</td>\n",
              "      <td>0.052698</td>\n",
              "      <td>-0.034893</td>\n",
              "      <td>0.090194</td>\n",
              "      <td>-0.189526</td>\n",
              "      <td>-0.026832</td>\n",
              "      <td>0.020626</td>\n",
              "      <td>0.043395</td>\n",
              "      <td>0.107834</td>\n",
              "      <td>-0.039577</td>\n",
              "    </tr>\n",
              "    <tr>\n",
              "      <th>Breed2</th>\n",
              "      <td>-0.043568</td>\n",
              "      <td>-0.041010</td>\n",
              "      <td>-0.157053</td>\n",
              "      <td>1.000000</td>\n",
              "      <td>0.056907</td>\n",
              "      <td>-0.020324</td>\n",
              "      <td>0.003015</td>\n",
              "      <td>0.035679</td>\n",
              "      <td>0.049879</td>\n",
              "      <td>0.106220</td>\n",
              "      <td>...</td>\n",
              "      <td>-0.009817</td>\n",
              "      <td>-0.005989</td>\n",
              "      <td>-0.029285</td>\n",
              "      <td>0.038125</td>\n",
              "      <td>0.013508</td>\n",
              "      <td>-0.037993</td>\n",
              "      <td>0.001569</td>\n",
              "      <td>0.045953</td>\n",
              "      <td>-0.018642</td>\n",
              "      <td>0.030760</td>\n",
              "    </tr>\n",
              "    <tr>\n",
              "      <th>Gender</th>\n",
              "      <td>0.060843</td>\n",
              "      <td>-0.123423</td>\n",
              "      <td>0.071321</td>\n",
              "      <td>0.056907</td>\n",
              "      <td>1.000000</td>\n",
              "      <td>-0.115351</td>\n",
              "      <td>0.026507</td>\n",
              "      <td>0.259309</td>\n",
              "      <td>-0.091819</td>\n",
              "      <td>-0.030404</td>\n",
              "      <td>...</td>\n",
              "      <td>0.091431</td>\n",
              "      <td>0.040645</td>\n",
              "      <td>-0.045177</td>\n",
              "      <td>0.494489</td>\n",
              "      <td>-0.050491</td>\n",
              "      <td>0.002564</td>\n",
              "      <td>0.016816</td>\n",
              "      <td>0.098435</td>\n",
              "      <td>0.057622</td>\n",
              "      <td>-0.013337</td>\n",
              "    </tr>\n",
              "    <tr>\n",
              "      <th>Color1</th>\n",
              "      <td>0.097680</td>\n",
              "      <td>0.090378</td>\n",
              "      <td>-0.035510</td>\n",
              "      <td>-0.020324</td>\n",
              "      <td>-0.115351</td>\n",
              "      <td>1.000000</td>\n",
              "      <td>-0.113290</td>\n",
              "      <td>-0.282897</td>\n",
              "      <td>-0.029468</td>\n",
              "      <td>0.066967</td>\n",
              "      <td>...</td>\n",
              "      <td>-0.019318</td>\n",
              "      <td>-0.037050</td>\n",
              "      <td>0.024410</td>\n",
              "      <td>-0.116688</td>\n",
              "      <td>0.054180</td>\n",
              "      <td>0.024012</td>\n",
              "      <td>-0.006435</td>\n",
              "      <td>-0.041323</td>\n",
              "      <td>-0.044192</td>\n",
              "      <td>0.016167</td>\n",
              "    </tr>\n",
              "    <tr>\n",
              "      <th>Color2</th>\n",
              "      <td>0.246333</td>\n",
              "      <td>-0.039427</td>\n",
              "      <td>-0.007081</td>\n",
              "      <td>0.003015</td>\n",
              "      <td>0.026507</td>\n",
              "      <td>-0.113290</td>\n",
              "      <td>1.000000</td>\n",
              "      <td>0.088742</td>\n",
              "      <td>-0.065155</td>\n",
              "      <td>-0.008764</td>\n",
              "      <td>...</td>\n",
              "      <td>0.005812</td>\n",
              "      <td>0.007370</td>\n",
              "      <td>-0.004307</td>\n",
              "      <td>0.019876</td>\n",
              "      <td>-0.017308</td>\n",
              "      <td>0.026944</td>\n",
              "      <td>0.023983</td>\n",
              "      <td>0.059113</td>\n",
              "      <td>-0.038579</td>\n",
              "      <td>0.017542</td>\n",
              "    </tr>\n",
              "    <tr>\n",
              "      <th>Color3</th>\n",
              "      <td>0.201693</td>\n",
              "      <td>-0.053546</td>\n",
              "      <td>-0.000682</td>\n",
              "      <td>0.035679</td>\n",
              "      <td>0.259309</td>\n",
              "      <td>-0.282897</td>\n",
              "      <td>0.088742</td>\n",
              "      <td>1.000000</td>\n",
              "      <td>-0.051730</td>\n",
              "      <td>0.013581</td>\n",
              "      <td>...</td>\n",
              "      <td>0.048617</td>\n",
              "      <td>0.038899</td>\n",
              "      <td>-0.024782</td>\n",
              "      <td>0.272548</td>\n",
              "      <td>-0.019839</td>\n",
              "      <td>0.010554</td>\n",
              "      <td>0.019526</td>\n",
              "      <td>0.103662</td>\n",
              "      <td>-0.007014</td>\n",
              "      <td>0.015538</td>\n",
              "    </tr>\n",
              "    <tr>\n",
              "      <th>MaturitySize</th>\n",
              "      <td>-0.171811</td>\n",
              "      <td>0.093673</td>\n",
              "      <td>-0.010507</td>\n",
              "      <td>0.049879</td>\n",
              "      <td>-0.091819</td>\n",
              "      <td>-0.029468</td>\n",
              "      <td>-0.065155</td>\n",
              "      <td>-0.051730</td>\n",
              "      <td>1.000000</td>\n",
              "      <td>0.095142</td>\n",
              "      <td>...</td>\n",
              "      <td>-0.067352</td>\n",
              "      <td>-0.066321</td>\n",
              "      <td>-0.012957</td>\n",
              "      <td>-0.042832</td>\n",
              "      <td>0.041144</td>\n",
              "      <td>-0.062584</td>\n",
              "      <td>0.017032</td>\n",
              "      <td>0.015593</td>\n",
              "      <td>0.045653</td>\n",
              "      <td>-0.026437</td>\n",
              "    </tr>\n",
              "    <tr>\n",
              "      <th>FurLength</th>\n",
              "      <td>0.003036</td>\n",
              "      <td>0.153092</td>\n",
              "      <td>-0.108059</td>\n",
              "      <td>0.106220</td>\n",
              "      <td>-0.030404</td>\n",
              "      <td>0.066967</td>\n",
              "      <td>-0.008764</td>\n",
              "      <td>0.013581</td>\n",
              "      <td>0.095142</td>\n",
              "      <td>1.000000</td>\n",
              "      <td>...</td>\n",
              "      <td>0.016463</td>\n",
              "      <td>0.032092</td>\n",
              "      <td>0.028096</td>\n",
              "      <td>-0.038388</td>\n",
              "      <td>0.159693</td>\n",
              "      <td>-0.029317</td>\n",
              "      <td>-0.014740</td>\n",
              "      <td>-0.031557</td>\n",
              "      <td>-0.091337</td>\n",
              "      <td>0.054841</td>\n",
              "    </tr>\n",
              "    <tr>\n",
              "      <th>Vaccinated</th>\n",
              "      <td>0.102907</td>\n",
              "      <td>-0.136061</td>\n",
              "      <td>0.046518</td>\n",
              "      <td>0.005638</td>\n",
              "      <td>0.078702</td>\n",
              "      <td>-0.017475</td>\n",
              "      <td>0.026193</td>\n",
              "      <td>0.054053</td>\n",
              "      <td>-0.087722</td>\n",
              "      <td>-0.006010</td>\n",
              "      <td>...</td>\n",
              "      <td>0.722596</td>\n",
              "      <td>0.471204</td>\n",
              "      <td>0.078893</td>\n",
              "      <td>0.125287</td>\n",
              "      <td>-0.121868</td>\n",
              "      <td>0.032737</td>\n",
              "      <td>-0.032685</td>\n",
              "      <td>-0.052719</td>\n",
              "      <td>-0.059043</td>\n",
              "      <td>0.013602</td>\n",
              "    </tr>\n",
              "    <tr>\n",
              "      <th>Dewormed</th>\n",
              "      <td>0.025508</td>\n",
              "      <td>-0.053360</td>\n",
              "      <td>0.013216</td>\n",
              "      <td>-0.009817</td>\n",
              "      <td>0.091431</td>\n",
              "      <td>-0.019318</td>\n",
              "      <td>0.005812</td>\n",
              "      <td>0.048617</td>\n",
              "      <td>-0.067352</td>\n",
              "      <td>0.016463</td>\n",
              "      <td>...</td>\n",
              "      <td>1.000000</td>\n",
              "      <td>0.426256</td>\n",
              "      <td>0.072188</td>\n",
              "      <td>0.141355</td>\n",
              "      <td>-0.105978</td>\n",
              "      <td>-0.001310</td>\n",
              "      <td>-0.036961</td>\n",
              "      <td>-0.099026</td>\n",
              "      <td>-0.013210</td>\n",
              "      <td>0.020526</td>\n",
              "    </tr>\n",
              "    <tr>\n",
              "      <th>Sterilized</th>\n",
              "      <td>0.006737</td>\n",
              "      <td>-0.189450</td>\n",
              "      <td>0.052698</td>\n",
              "      <td>-0.005989</td>\n",
              "      <td>0.040645</td>\n",
              "      <td>-0.037050</td>\n",
              "      <td>0.007370</td>\n",
              "      <td>0.038899</td>\n",
              "      <td>-0.066321</td>\n",
              "      <td>0.032092</td>\n",
              "      <td>...</td>\n",
              "      <td>0.426256</td>\n",
              "      <td>1.000000</td>\n",
              "      <td>0.057916</td>\n",
              "      <td>0.101919</td>\n",
              "      <td>-0.063790</td>\n",
              "      <td>0.009951</td>\n",
              "      <td>-0.018720</td>\n",
              "      <td>-0.062067</td>\n",
              "      <td>-0.083447</td>\n",
              "      <td>0.025403</td>\n",
              "    </tr>\n",
              "    <tr>\n",
              "      <th>Health</th>\n",
              "      <td>-0.006864</td>\n",
              "      <td>0.103215</td>\n",
              "      <td>-0.034893</td>\n",
              "      <td>-0.029285</td>\n",
              "      <td>-0.045177</td>\n",
              "      <td>0.024410</td>\n",
              "      <td>-0.004307</td>\n",
              "      <td>-0.024782</td>\n",
              "      <td>-0.012957</td>\n",
              "      <td>0.028096</td>\n",
              "      <td>...</td>\n",
              "      <td>0.072188</td>\n",
              "      <td>0.057916</td>\n",
              "      <td>1.000000</td>\n",
              "      <td>-0.034567</td>\n",
              "      <td>-0.010073</td>\n",
              "      <td>0.026237</td>\n",
              "      <td>-0.004984</td>\n",
              "      <td>-0.023978</td>\n",
              "      <td>0.029382</td>\n",
              "      <td>0.008172</td>\n",
              "    </tr>\n",
              "    <tr>\n",
              "      <th>Quantity</th>\n",
              "      <td>0.036423</td>\n",
              "      <td>-0.113076</td>\n",
              "      <td>0.090194</td>\n",
              "      <td>0.038125</td>\n",
              "      <td>0.494489</td>\n",
              "      <td>-0.116688</td>\n",
              "      <td>0.019876</td>\n",
              "      <td>0.272548</td>\n",
              "      <td>-0.042832</td>\n",
              "      <td>-0.038388</td>\n",
              "      <td>...</td>\n",
              "      <td>0.141355</td>\n",
              "      <td>0.101919</td>\n",
              "      <td>-0.034567</td>\n",
              "      <td>1.000000</td>\n",
              "      <td>-0.060523</td>\n",
              "      <td>-0.002182</td>\n",
              "      <td>0.008344</td>\n",
              "      <td>0.137839</td>\n",
              "      <td>0.062931</td>\n",
              "      <td>-0.018384</td>\n",
              "    </tr>\n",
              "    <tr>\n",
              "      <th>Fee</th>\n",
              "      <td>-0.042134</td>\n",
              "      <td>0.089168</td>\n",
              "      <td>-0.189526</td>\n",
              "      <td>0.013508</td>\n",
              "      <td>-0.050491</td>\n",
              "      <td>0.054180</td>\n",
              "      <td>-0.017308</td>\n",
              "      <td>-0.019839</td>\n",
              "      <td>0.041144</td>\n",
              "      <td>0.159693</td>\n",
              "      <td>...</td>\n",
              "      <td>-0.105978</td>\n",
              "      <td>-0.063790</td>\n",
              "      <td>-0.010073</td>\n",
              "      <td>-0.060523</td>\n",
              "      <td>1.000000</td>\n",
              "      <td>-0.015758</td>\n",
              "      <td>-0.000839</td>\n",
              "      <td>0.005103</td>\n",
              "      <td>-0.004017</td>\n",
              "      <td>0.001765</td>\n",
              "    </tr>\n",
              "    <tr>\n",
              "      <th>State</th>\n",
              "      <td>0.124549</td>\n",
              "      <td>0.024523</td>\n",
              "      <td>-0.026832</td>\n",
              "      <td>-0.037993</td>\n",
              "      <td>0.002564</td>\n",
              "      <td>0.024012</td>\n",
              "      <td>0.026944</td>\n",
              "      <td>0.010554</td>\n",
              "      <td>-0.062584</td>\n",
              "      <td>-0.029317</td>\n",
              "      <td>...</td>\n",
              "      <td>-0.001310</td>\n",
              "      <td>0.009951</td>\n",
              "      <td>0.026237</td>\n",
              "      <td>-0.002182</td>\n",
              "      <td>-0.015758</td>\n",
              "      <td>1.000000</td>\n",
              "      <td>-0.027456</td>\n",
              "      <td>0.001873</td>\n",
              "      <td>0.013119</td>\n",
              "      <td>0.007505</td>\n",
              "    </tr>\n",
              "    <tr>\n",
              "      <th>VideoAmt</th>\n",
              "      <td>-0.005967</td>\n",
              "      <td>-0.015969</td>\n",
              "      <td>0.020626</td>\n",
              "      <td>0.001569</td>\n",
              "      <td>0.016816</td>\n",
              "      <td>-0.006435</td>\n",
              "      <td>0.023983</td>\n",
              "      <td>0.019526</td>\n",
              "      <td>0.017032</td>\n",
              "      <td>-0.014740</td>\n",
              "      <td>...</td>\n",
              "      <td>-0.036961</td>\n",
              "      <td>-0.018720</td>\n",
              "      <td>-0.004984</td>\n",
              "      <td>0.008344</td>\n",
              "      <td>-0.000839</td>\n",
              "      <td>-0.027456</td>\n",
              "      <td>1.000000</td>\n",
              "      <td>0.227231</td>\n",
              "      <td>-0.000571</td>\n",
              "      <td>0.002042</td>\n",
              "    </tr>\n",
              "    <tr>\n",
              "      <th>PhotoAmt</th>\n",
              "      <td>0.049368</td>\n",
              "      <td>-0.084778</td>\n",
              "      <td>0.043395</td>\n",
              "      <td>0.045953</td>\n",
              "      <td>0.098435</td>\n",
              "      <td>-0.041323</td>\n",
              "      <td>0.059113</td>\n",
              "      <td>0.103662</td>\n",
              "      <td>0.015593</td>\n",
              "      <td>-0.031557</td>\n",
              "      <td>...</td>\n",
              "      <td>-0.099026</td>\n",
              "      <td>-0.062067</td>\n",
              "      <td>-0.023978</td>\n",
              "      <td>0.137839</td>\n",
              "      <td>0.005103</td>\n",
              "      <td>0.001873</td>\n",
              "      <td>0.227231</td>\n",
              "      <td>1.000000</td>\n",
              "      <td>-0.023233</td>\n",
              "      <td>-0.027155</td>\n",
              "    </tr>\n",
              "    <tr>\n",
              "      <th>AdoptionSpeed</th>\n",
              "      <td>-0.091240</td>\n",
              "      <td>0.100510</td>\n",
              "      <td>0.107834</td>\n",
              "      <td>-0.018642</td>\n",
              "      <td>0.057622</td>\n",
              "      <td>-0.044192</td>\n",
              "      <td>-0.038579</td>\n",
              "      <td>-0.007014</td>\n",
              "      <td>0.045653</td>\n",
              "      <td>-0.091337</td>\n",
              "      <td>...</td>\n",
              "      <td>-0.013210</td>\n",
              "      <td>-0.083447</td>\n",
              "      <td>0.029382</td>\n",
              "      <td>0.062931</td>\n",
              "      <td>-0.004017</td>\n",
              "      <td>0.013119</td>\n",
              "      <td>-0.000571</td>\n",
              "      <td>-0.023233</td>\n",
              "      <td>1.000000</td>\n",
              "      <td>-0.358423</td>\n",
              "    </tr>\n",
              "    <tr>\n",
              "      <th>AdpSpeed</th>\n",
              "      <td>0.042997</td>\n",
              "      <td>-0.000008</td>\n",
              "      <td>-0.039577</td>\n",
              "      <td>0.030760</td>\n",
              "      <td>-0.013337</td>\n",
              "      <td>0.016167</td>\n",
              "      <td>0.017542</td>\n",
              "      <td>0.015538</td>\n",
              "      <td>-0.026437</td>\n",
              "      <td>0.054841</td>\n",
              "      <td>...</td>\n",
              "      <td>0.020526</td>\n",
              "      <td>0.025403</td>\n",
              "      <td>0.008172</td>\n",
              "      <td>-0.018384</td>\n",
              "      <td>0.001765</td>\n",
              "      <td>0.007505</td>\n",
              "      <td>0.002042</td>\n",
              "      <td>-0.027155</td>\n",
              "      <td>-0.358423</td>\n",
              "      <td>1.000000</td>\n",
              "    </tr>\n",
              "  </tbody>\n",
              "</table>\n",
              "<p>21 rows × 21 columns</p>\n",
              "</div>\n",
              "      <button class=\"colab-df-convert\" onclick=\"convertToInteractive('df-5bb36c44-89e4-489f-9345-9ff9433e2415')\"\n",
              "              title=\"Convert this dataframe to an interactive table.\"\n",
              "              style=\"display:none;\">\n",
              "        \n",
              "  <svg xmlns=\"http://www.w3.org/2000/svg\" height=\"24px\"viewBox=\"0 0 24 24\"\n",
              "       width=\"24px\">\n",
              "    <path d=\"M0 0h24v24H0V0z\" fill=\"none\"/>\n",
              "    <path d=\"M18.56 5.44l.94 2.06.94-2.06 2.06-.94-2.06-.94-.94-2.06-.94 2.06-2.06.94zm-11 1L8.5 8.5l.94-2.06 2.06-.94-2.06-.94L8.5 2.5l-.94 2.06-2.06.94zm10 10l.94 2.06.94-2.06 2.06-.94-2.06-.94-.94-2.06-.94 2.06-2.06.94z\"/><path d=\"M17.41 7.96l-1.37-1.37c-.4-.4-.92-.59-1.43-.59-.52 0-1.04.2-1.43.59L10.3 9.45l-7.72 7.72c-.78.78-.78 2.05 0 2.83L4 21.41c.39.39.9.59 1.41.59.51 0 1.02-.2 1.41-.59l7.78-7.78 2.81-2.81c.8-.78.8-2.07 0-2.86zM5.41 20L4 18.59l7.72-7.72 1.47 1.35L5.41 20z\"/>\n",
              "  </svg>\n",
              "      </button>\n",
              "      \n",
              "  <style>\n",
              "    .colab-df-container {\n",
              "      display:flex;\n",
              "      flex-wrap:wrap;\n",
              "      gap: 12px;\n",
              "    }\n",
              "\n",
              "    .colab-df-convert {\n",
              "      background-color: #E8F0FE;\n",
              "      border: none;\n",
              "      border-radius: 50%;\n",
              "      cursor: pointer;\n",
              "      display: none;\n",
              "      fill: #1967D2;\n",
              "      height: 32px;\n",
              "      padding: 0 0 0 0;\n",
              "      width: 32px;\n",
              "    }\n",
              "\n",
              "    .colab-df-convert:hover {\n",
              "      background-color: #E2EBFA;\n",
              "      box-shadow: 0px 1px 2px rgba(60, 64, 67, 0.3), 0px 1px 3px 1px rgba(60, 64, 67, 0.15);\n",
              "      fill: #174EA6;\n",
              "    }\n",
              "\n",
              "    [theme=dark] .colab-df-convert {\n",
              "      background-color: #3B4455;\n",
              "      fill: #D2E3FC;\n",
              "    }\n",
              "\n",
              "    [theme=dark] .colab-df-convert:hover {\n",
              "      background-color: #434B5C;\n",
              "      box-shadow: 0px 1px 3px 1px rgba(0, 0, 0, 0.15);\n",
              "      filter: drop-shadow(0px 1px 2px rgba(0, 0, 0, 0.3));\n",
              "      fill: #FFFFFF;\n",
              "    }\n",
              "  </style>\n",
              "\n",
              "      <script>\n",
              "        const buttonEl =\n",
              "          document.querySelector('#df-5bb36c44-89e4-489f-9345-9ff9433e2415 button.colab-df-convert');\n",
              "        buttonEl.style.display =\n",
              "          google.colab.kernel.accessAllowed ? 'block' : 'none';\n",
              "\n",
              "        async function convertToInteractive(key) {\n",
              "          const element = document.querySelector('#df-5bb36c44-89e4-489f-9345-9ff9433e2415');\n",
              "          const dataTable =\n",
              "            await google.colab.kernel.invokeFunction('convertToInteractive',\n",
              "                                                     [key], {});\n",
              "          if (!dataTable) return;\n",
              "\n",
              "          const docLinkHtml = 'Like what you see? Visit the ' +\n",
              "            '<a target=\"_blank\" href=https://colab.research.google.com/notebooks/data_table.ipynb>data table notebook</a>'\n",
              "            + ' to learn more about interactive tables.';\n",
              "          element.innerHTML = '';\n",
              "          dataTable['output_type'] = 'display_data';\n",
              "          await google.colab.output.renderOutput(dataTable, element);\n",
              "          const docLink = document.createElement('div');\n",
              "          docLink.innerHTML = docLinkHtml;\n",
              "          element.appendChild(docLink);\n",
              "        }\n",
              "      </script>\n",
              "    </div>\n",
              "  </div>\n",
              "  "
            ]
          },
          "metadata": {},
          "execution_count": 9
        }
      ]
    },
    {
      "cell_type": "code",
      "source": [
        "import seaborn as sns\n",
        "plt.figure(figsize=(35,30))\n",
        "sns.heatmap(train_df_std.corr(), cbar = True, annot = True, cmap='RdBu')"
      ],
      "metadata": {
        "id": "CpHmfZQYjl7z",
        "colab": {
          "base_uri": "https://localhost:8080/",
          "height": 1000
        },
        "outputId": "f4d3722a-1e8c-4f8b-9c2d-16fef709a8ca"
      },
      "execution_count": null,
      "outputs": [
        {
          "output_type": "execute_result",
          "data": {
            "text/plain": [
              "<matplotlib.axes._subplots.AxesSubplot at 0x7f3c92673090>"
            ]
          },
          "metadata": {},
          "execution_count": 10
        },
        {
          "output_type": "display_data",
          "data": {
            "text/plain": [
              "<Figure size 2520x2160 with 2 Axes>"
            ],
            "image/png": "[encoded data removed]"
          },
          "metadata": {
            "needs_background": "light"
          }
        }
      ]
    },
    {
      "cell_type": "code",
      "source": [
        "# Check if imbalanced \n",
        "print(train_df['AdpSpeed'].value_counts())"
      ],
      "metadata": {
        "colab": {
          "base_uri": "https://localhost:8080/"
        },
        "id": "liQYEjAEb0b1",
        "outputId": "3d902650-ed08-40f5-d8fb-30f485cf00ef"
      },
      "execution_count": null,
      "outputs": [
        {
          "output_type": "stream",
          "name": "stdout",
          "text": [
            "0    14583\n",
            "1      410\n",
            "Name: AdpSpeed, dtype: int64\n"
          ]
        }
      ]
    },
    {
      "cell_type": "markdown",
      "source": [
        "## Deal with Imbalanced Data\n"
      ],
      "metadata": {
        "id": "ieim6nXpb6fy"
      }
    },
    {
      "cell_type": "code",
      "source": [
        "# Deal with imbalanced data\n",
        "# import SMOTE oversampling and other necessary libraries \n",
        "from collections import Counter\n",
        "from imblearn.over_sampling import SMOTE\n",
        "from sklearn.model_selection import train_test_split\n",
        "import warnings\n",
        "warnings.simplefilter(action='ignore', category=FutureWarning)\n",
        "\n",
        "\n",
        "# Separating the independent variables from dependent variables\n",
        "y = train_df[\"AdpSpeed\"]\n",
        "X = train_df.drop([\"AdpSpeed\",\"AdoptionSpeed\"], axis=1)\n",
        "\n",
        "#Split train-validation data\n",
        "#X_train, X_val, y_train, y_val = train_test_split(X,y,test_size=0.2, random_state=123)\n",
        "\n",
        "# set aside 20% of train and test data for evaluation\n",
        "X_train, X_test, y_train, y_test = train_test_split(X, y, test_size=0.2, shuffle = True, random_state = 123)\n",
        "\n",
        "# Use the same function above for the validation set\n",
        "X_train, X_val, y_train, y_val = train_test_split(X_train, y_train, test_size=0.25, random_state= 123) # 0.25 x 0.8 = 0.2\n",
        "\n",
        "# summarize class distribution\n",
        "print(\"Before oversampling: \",Counter(y_train))\n",
        "\n",
        "# define oversampling strategy\n",
        "SMOTE = SMOTE()\n",
        "\n",
        "# fit and apply the transform\n",
        "# SMOTE the original data cuz the cross validation in SVM will deal with the orginal dataset\n",
        "X_SMOTE, y_SMOTE = SMOTE.fit_resample(X, y) \n",
        "\n",
        "\n",
        "# summarize class distribution\n",
        "print(\"After oversampling: \",Counter(y_SMOTE))"
      ],
      "metadata": {
        "colab": {
          "base_uri": "https://localhost:8080/"
        },
        "id": "AWr4lL4lb_Ye",
        "outputId": "6b53fc9e-be4f-44a3-9dae-3ed984f307f0"
      },
      "execution_count": null,
      "outputs": [
        {
          "output_type": "stream",
          "name": "stdout",
          "text": [
            "Before oversampling:  Counter({0: 8756, 1: 239})\n",
            "After oversampling:  Counter({0: 14583, 1: 14583})\n"
          ]
        }
      ]
    },
    {
      "cell_type": "code",
      "source": [
        "print(X_train.shape)\n",
        "print(X_test.shape)\n",
        "print(y_train.shape)\n",
        "print(y_test.shape)\n",
        "print(X_val.shape)\n",
        "print(y_val.shape)"
      ],
      "metadata": {
        "id": "cJGDY-6uU4pp",
        "colab": {
          "base_uri": "https://localhost:8080/"
        },
        "outputId": "115b0009-a341-4f6a-f62e-7c3cd1717fab"
      },
      "execution_count": null,
      "outputs": [
        {
          "output_type": "stream",
          "name": "stdout",
          "text": [
            "(8995, 19)\n",
            "(2999, 19)\n",
            "(8995,)\n",
            "(2999,)\n",
            "(2999, 19)\n",
            "(2999,)\n"
          ]
        }
      ]
    },
    {
      "cell_type": "code",
      "source": [
        "X_test.head()"
      ],
      "metadata": {
        "id": "JMvBPgh7WaH-",
        "colab": {
          "base_uri": "https://localhost:8080/",
          "height": 270
        },
        "outputId": "4f0999b9-e36f-437d-8932-62b30d703ec1"
      },
      "execution_count": null,
      "outputs": [
        {
          "output_type": "execute_result",
          "data": {
            "text/plain": [
              "       Type  Age  Breed1  Breed2  Gender  Color1  Color2  Color3  \\\n",
              "10216     2    4     266       0       2       3       7       0   \n",
              "14913     1   18     307       0       2       2       6       0   \n",
              "14759     1   36     307       0       1       1       0       0   \n",
              "3901      1    1     307     307       3       1       2       7   \n",
              "12059     1    1     307       0       1       1       2       0   \n",
              "\n",
              "       MaturitySize  FurLength  Vaccinated  Dewormed  Sterilized  Health  \\\n",
              "10216             1          2           2         2           2       1   \n",
              "14913             2          2           3         3           3       1   \n",
              "14759             2          2           1         1           1       1   \n",
              "3901              2          1           2         2           2       1   \n",
              "12059             2          1           2         2           2       1   \n",
              "\n",
              "       Quantity  Fee  State  VideoAmt  PhotoAmt  \n",
              "10216         1    0  41326         0       5.0  \n",
              "14913         1    0  41401         0       1.0  \n",
              "14759         1    0  41401         0       3.0  \n",
              "3901          3   80  41326         0      13.0  \n",
              "12059         1    0  41401         0       3.0  "
            ],
            "text/html": [
              "\n",
              "  <div id=\"df-e60a3769-635b-4986-bd17-0d5b81443583\">\n",
              "    <div class=\"colab-df-container\">\n",
              "      <div>\n",
              "<style scoped>\n",
              "    .dataframe tbody tr th:only-of-type {\n",
              "        vertical-align: middle;\n",
              "    }\n",
              "\n",
              "    .dataframe tbody tr th {\n",
              "        vertical-align: top;\n",
              "    }\n",
              "\n",
              "    .dataframe thead th {\n",
              "        text-align: right;\n",
              "    }\n",
              "</style>\n",
              "<table border=\"1\" class=\"dataframe\">\n",
              "  <thead>\n",
              "    <tr style=\"text-align: right;\">\n",
              "      <th></th>\n",
              "      <th>Type</th>\n",
              "      <th>Age</th>\n",
              "      <th>Breed1</th>\n",
              "      <th>Breed2</th>\n",
              "      <th>Gender</th>\n",
              "      <th>Color1</th>\n",
              "      <th>Color2</th>\n",
              "      <th>Color3</th>\n",
              "      <th>MaturitySize</th>\n",
              "      <th>FurLength</th>\n",
              "      <th>Vaccinated</th>\n",
              "      <th>Dewormed</th>\n",
              "      <th>Sterilized</th>\n",
              "      <th>Health</th>\n",
              "      <th>Quantity</th>\n",
              "      <th>Fee</th>\n",
              "      <th>State</th>\n",
              "      <th>VideoAmt</th>\n",
              "      <th>PhotoAmt</th>\n",
              "    </tr>\n",
              "  </thead>\n",
              "  <tbody>\n",
              "    <tr>\n",
              "      <th>10216</th>\n",
              "      <td>2</td>\n",
              "      <td>4</td>\n",
              "      <td>266</td>\n",
              "      <td>0</td>\n",
              "      <td>2</td>\n",
              "      <td>3</td>\n",
              "      <td>7</td>\n",
              "      <td>0</td>\n",
              "      <td>1</td>\n",
              "      <td>2</td>\n",
              "      <td>2</td>\n",
              "      <td>2</td>\n",
              "      <td>2</td>\n",
              "      <td>1</td>\n",
              "      <td>1</td>\n",
              "      <td>0</td>\n",
              "      <td>41326</td>\n",
              "      <td>0</td>\n",
              "      <td>5.0</td>\n",
              "    </tr>\n",
              "    <tr>\n",
              "      <th>14913</th>\n",
              "      <td>1</td>\n",
              "      <td>18</td>\n",
              "      <td>307</td>\n",
              "      <td>0</td>\n",
              "      <td>2</td>\n",
              "      <td>2</td>\n",
              "      <td>6</td>\n",
              "      <td>0</td>\n",
              "      <td>2</td>\n",
              "      <td>2</td>\n",
              "      <td>3</td>\n",
              "      <td>3</td>\n",
              "      <td>3</td>\n",
              "      <td>1</td>\n",
              "      <td>1</td>\n",
              "      <td>0</td>\n",
              "      <td>41401</td>\n",
              "      <td>0</td>\n",
              "      <td>1.0</td>\n",
              "    </tr>\n",
              "    <tr>\n",
              "      <th>14759</th>\n",
              "      <td>1</td>\n",
              "      <td>36</td>\n",
              "      <td>307</td>\n",
              "      <td>0</td>\n",
              "      <td>1</td>\n",
              "      <td>1</td>\n",
              "      <td>0</td>\n",
              "      <td>0</td>\n",
              "      <td>2</td>\n",
              "      <td>2</td>\n",
              "      <td>1</td>\n",
              "      <td>1</td>\n",
              "      <td>1</td>\n",
              "      <td>1</td>\n",
              "      <td>1</td>\n",
              "      <td>0</td>\n",
              "      <td>41401</td>\n",
              "      <td>0</td>\n",
              "      <td>3.0</td>\n",
              "    </tr>\n",
              "    <tr>\n",
              "      <th>3901</th>\n",
              "      <td>1</td>\n",
              "      <td>1</td>\n",
              "      <td>307</td>\n",
              "      <td>307</td>\n",
              "      <td>3</td>\n",
              "      <td>1</td>\n",
              "      <td>2</td>\n",
              "      <td>7</td>\n",
              "      <td>2</td>\n",
              "      <td>1</td>\n",
              "      <td>2</td>\n",
              "      <td>2</td>\n",
              "      <td>2</td>\n",
              "      <td>1</td>\n",
              "      <td>3</td>\n",
              "      <td>80</td>\n",
              "      <td>41326</td>\n",
              "      <td>0</td>\n",
              "      <td>13.0</td>\n",
              "    </tr>\n",
              "    <tr>\n",
              "      <th>12059</th>\n",
              "      <td>1</td>\n",
              "      <td>1</td>\n",
              "      <td>307</td>\n",
              "      <td>0</td>\n",
              "      <td>1</td>\n",
              "      <td>1</td>\n",
              "      <td>2</td>\n",
              "      <td>0</td>\n",
              "      <td>2</td>\n",
              "      <td>1</td>\n",
              "      <td>2</td>\n",
              "      <td>2</td>\n",
              "      <td>2</td>\n",
              "      <td>1</td>\n",
              "      <td>1</td>\n",
              "      <td>0</td>\n",
              "      <td>41401</td>\n",
              "      <td>0</td>\n",
              "      <td>3.0</td>\n",
              "    </tr>\n",
              "  </tbody>\n",
              "</table>\n",
              "</div>\n",
              "      <button class=\"colab-df-convert\" onclick=\"convertToInteractive('df-e60a3769-635b-4986-bd17-0d5b81443583')\"\n",
              "              title=\"Convert this dataframe to an interactive table.\"\n",
              "              style=\"display:none;\">\n",
              "        \n",
              "  <svg xmlns=\"http://www.w3.org/2000/svg\" height=\"24px\"viewBox=\"0 0 24 24\"\n",
              "       width=\"24px\">\n",
              "    <path d=\"M0 0h24v24H0V0z\" fill=\"none\"/>\n",
              "    <path d=\"M18.56 5.44l.94 2.06.94-2.06 2.06-.94-2.06-.94-.94-2.06-.94 2.06-2.06.94zm-11 1L8.5 8.5l.94-2.06 2.06-.94-2.06-.94L8.5 2.5l-.94 2.06-2.06.94zm10 10l.94 2.06.94-2.06 2.06-.94-2.06-.94-.94-2.06-.94 2.06-2.06.94z\"/><path d=\"M17.41 7.96l-1.37-1.37c-.4-.4-.92-.59-1.43-.59-.52 0-1.04.2-1.43.59L10.3 9.45l-7.72 7.72c-.78.78-.78 2.05 0 2.83L4 21.41c.39.39.9.59 1.41.59.51 0 1.02-.2 1.41-.59l7.78-7.78 2.81-2.81c.8-.78.8-2.07 0-2.86zM5.41 20L4 18.59l7.72-7.72 1.47 1.35L5.41 20z\"/>\n",
              "  </svg>\n",
              "      </button>\n",
              "      \n",
              "  <style>\n",
              "    .colab-df-container {\n",
              "      display:flex;\n",
              "      flex-wrap:wrap;\n",
              "      gap: 12px;\n",
              "    }\n",
              "\n",
              "    .colab-df-convert {\n",
              "      background-color: #E8F0FE;\n",
              "      border: none;\n",
              "      border-radius: 50%;\n",
              "      cursor: pointer;\n",
              "      display: none;\n",
              "      fill: #1967D2;\n",
              "      height: 32px;\n",
              "      padding: 0 0 0 0;\n",
              "      width: 32px;\n",
              "    }\n",
              "\n",
              "    .colab-df-convert:hover {\n",
              "      background-color: #E2EBFA;\n",
              "      box-shadow: 0px 1px 2px rgba(60, 64, 67, 0.3), 0px 1px 3px 1px rgba(60, 64, 67, 0.15);\n",
              "      fill: #174EA6;\n",
              "    }\n",
              "\n",
              "    [theme=dark] .colab-df-convert {\n",
              "      background-color: #3B4455;\n",
              "      fill: #D2E3FC;\n",
              "    }\n",
              "\n",
              "    [theme=dark] .colab-df-convert:hover {\n",
              "      background-color: #434B5C;\n",
              "      box-shadow: 0px 1px 3px 1px rgba(0, 0, 0, 0.15);\n",
              "      filter: drop-shadow(0px 1px 2px rgba(0, 0, 0, 0.3));\n",
              "      fill: #FFFFFF;\n",
              "    }\n",
              "  </style>\n",
              "\n",
              "      <script>\n",
              "        const buttonEl =\n",
              "          document.querySelector('#df-e60a3769-635b-4986-bd17-0d5b81443583 button.colab-df-convert');\n",
              "        buttonEl.style.display =\n",
              "          google.colab.kernel.accessAllowed ? 'block' : 'none';\n",
              "\n",
              "        async function convertToInteractive(key) {\n",
              "          const element = document.querySelector('#df-e60a3769-635b-4986-bd17-0d5b81443583');\n",
              "          const dataTable =\n",
              "            await google.colab.kernel.invokeFunction('convertToInteractive',\n",
              "                                                     [key], {});\n",
              "          if (!dataTable) return;\n",
              "\n",
              "          const docLinkHtml = 'Like what you see? Visit the ' +\n",
              "            '<a target=\"_blank\" href=https://colab.research.google.com/notebooks/data_table.ipynb>data table notebook</a>'\n",
              "            + ' to learn more about interactive tables.';\n",
              "          element.innerHTML = '';\n",
              "          dataTable['output_type'] = 'display_data';\n",
              "          await google.colab.output.renderOutput(dataTable, element);\n",
              "          const docLink = document.createElement('div');\n",
              "          docLink.innerHTML = docLinkHtml;\n",
              "          element.appendChild(docLink);\n",
              "        }\n",
              "      </script>\n",
              "    </div>\n",
              "  </div>\n",
              "  "
            ]
          },
          "metadata": {},
          "execution_count": 14
        }
      ]
    },
    {
      "cell_type": "code",
      "source": [
        "X_val.head()"
      ],
      "metadata": {
        "id": "myy6V7NfWboG",
        "colab": {
          "base_uri": "https://localhost:8080/",
          "height": 270
        },
        "outputId": "8829be59-7501-4b87-877c-e8f6df5e6591"
      },
      "execution_count": null,
      "outputs": [
        {
          "output_type": "execute_result",
          "data": {
            "text/plain": [
              "       Type  Age  Breed1  Breed2  Gender  Color1  Color2  Color3  \\\n",
              "7848      1    2     103     307       2       1       4       0   \n",
              "10728     1    2     307       0       1       2       0       0   \n",
              "13805     1    7     307     218       1       1       7       0   \n",
              "5514      1    4      20     109       2       5       7       0   \n",
              "7842      2   12     266       0       1       1       0       0   \n",
              "\n",
              "       MaturitySize  FurLength  Vaccinated  Dewormed  Sterilized  Health  \\\n",
              "7848              2          2           2         2           2       1   \n",
              "10728             2          1           2         2           2       1   \n",
              "13805             1          2           1         1           2       1   \n",
              "5514              2          1           1         1           1       1   \n",
              "7842              1          1           2         2           2       1   \n",
              "\n",
              "       Quantity  Fee  State  VideoAmt  PhotoAmt  \n",
              "7848          1    0  41401         0       1.0  \n",
              "10728         1    0  41326         0       2.0  \n",
              "13805         1    0  41326         0       3.0  \n",
              "5514          1    0  41326         0       3.0  \n",
              "7842          1    0  41326         0       1.0  "
            ],
            "text/html": [
              "\n",
              "  <div id=\"df-97c61e67-1634-4b82-a774-3018661713c7\">\n",
              "    <div class=\"colab-df-container\">\n",
              "      <div>\n",
              "<style scoped>\n",
              "    .dataframe tbody tr th:only-of-type {\n",
              "        vertical-align: middle;\n",
              "    }\n",
              "\n",
              "    .dataframe tbody tr th {\n",
              "        vertical-align: top;\n",
              "    }\n",
              "\n",
              "    .dataframe thead th {\n",
              "        text-align: right;\n",
              "    }\n",
              "</style>\n",
              "<table border=\"1\" class=\"dataframe\">\n",
              "  <thead>\n",
              "    <tr style=\"text-align: right;\">\n",
              "      <th></th>\n",
              "      <th>Type</th>\n",
              "      <th>Age</th>\n",
              "      <th>Breed1</th>\n",
              "      <th>Breed2</th>\n",
              "      <th>Gender</th>\n",
              "      <th>Color1</th>\n",
              "      <th>Color2</th>\n",
              "      <th>Color3</th>\n",
              "      <th>MaturitySize</th>\n",
              "      <th>FurLength</th>\n",
              "      <th>Vaccinated</th>\n",
              "      <th>Dewormed</th>\n",
              "      <th>Sterilized</th>\n",
              "      <th>Health</th>\n",
              "      <th>Quantity</th>\n",
              "      <th>Fee</th>\n",
              "      <th>State</th>\n",
              "      <th>VideoAmt</th>\n",
              "      <th>PhotoAmt</th>\n",
              "    </tr>\n",
              "  </thead>\n",
              "  <tbody>\n",
              "    <tr>\n",
              "      <th>7848</th>\n",
              "      <td>1</td>\n",
              "      <td>2</td>\n",
              "      <td>103</td>\n",
              "      <td>307</td>\n",
              "      <td>2</td>\n",
              "      <td>1</td>\n",
              "      <td>4</td>\n",
              "      <td>0</td>\n",
              "      <td>2</td>\n",
              "      <td>2</td>\n",
              "      <td>2</td>\n",
              "      <td>2</td>\n",
              "      <td>2</td>\n",
              "      <td>1</td>\n",
              "      <td>1</td>\n",
              "      <td>0</td>\n",
              "      <td>41401</td>\n",
              "      <td>0</td>\n",
              "      <td>1.0</td>\n",
              "    </tr>\n",
              "    <tr>\n",
              "      <th>10728</th>\n",
              "      <td>1</td>\n",
              "      <td>2</td>\n",
              "      <td>307</td>\n",
              "      <td>0</td>\n",
              "      <td>1</td>\n",
              "      <td>2</td>\n",
              "      <td>0</td>\n",
              "      <td>0</td>\n",
              "      <td>2</td>\n",
              "      <td>1</td>\n",
              "      <td>2</td>\n",
              "      <td>2</td>\n",
              "      <td>2</td>\n",
              "      <td>1</td>\n",
              "      <td>1</td>\n",
              "      <td>0</td>\n",
              "      <td>41326</td>\n",
              "      <td>0</td>\n",
              "      <td>2.0</td>\n",
              "    </tr>\n",
              "    <tr>\n",
              "      <th>13805</th>\n",
              "      <td>1</td>\n",
              "      <td>7</td>\n",
              "      <td>307</td>\n",
              "      <td>218</td>\n",
              "      <td>1</td>\n",
              "      <td>1</td>\n",
              "      <td>7</td>\n",
              "      <td>0</td>\n",
              "      <td>1</td>\n",
              "      <td>2</td>\n",
              "      <td>1</td>\n",
              "      <td>1</td>\n",
              "      <td>2</td>\n",
              "      <td>1</td>\n",
              "      <td>1</td>\n",
              "      <td>0</td>\n",
              "      <td>41326</td>\n",
              "      <td>0</td>\n",
              "      <td>3.0</td>\n",
              "    </tr>\n",
              "    <tr>\n",
              "      <th>5514</th>\n",
              "      <td>1</td>\n",
              "      <td>4</td>\n",
              "      <td>20</td>\n",
              "      <td>109</td>\n",
              "      <td>2</td>\n",
              "      <td>5</td>\n",
              "      <td>7</td>\n",
              "      <td>0</td>\n",
              "      <td>2</td>\n",
              "      <td>1</td>\n",
              "      <td>1</td>\n",
              "      <td>1</td>\n",
              "      <td>1</td>\n",
              "      <td>1</td>\n",
              "      <td>1</td>\n",
              "      <td>0</td>\n",
              "      <td>41326</td>\n",
              "      <td>0</td>\n",
              "      <td>3.0</td>\n",
              "    </tr>\n",
              "    <tr>\n",
              "      <th>7842</th>\n",
              "      <td>2</td>\n",
              "      <td>12</td>\n",
              "      <td>266</td>\n",
              "      <td>0</td>\n",
              "      <td>1</td>\n",
              "      <td>1</td>\n",
              "      <td>0</td>\n",
              "      <td>0</td>\n",
              "      <td>1</td>\n",
              "      <td>1</td>\n",
              "      <td>2</td>\n",
              "      <td>2</td>\n",
              "      <td>2</td>\n",
              "      <td>1</td>\n",
              "      <td>1</td>\n",
              "      <td>0</td>\n",
              "      <td>41326</td>\n",
              "      <td>0</td>\n",
              "      <td>1.0</td>\n",
              "    </tr>\n",
              "  </tbody>\n",
              "</table>\n",
              "</div>\n",
              "      <button class=\"colab-df-convert\" onclick=\"convertToInteractive('df-97c61e67-1634-4b82-a774-3018661713c7')\"\n",
              "              title=\"Convert this dataframe to an interactive table.\"\n",
              "              style=\"display:none;\">\n",
              "        \n",
              "  <svg xmlns=\"http://www.w3.org/2000/svg\" height=\"24px\"viewBox=\"0 0 24 24\"\n",
              "       width=\"24px\">\n",
              "    <path d=\"M0 0h24v24H0V0z\" fill=\"none\"/>\n",
              "    <path d=\"M18.56 5.44l.94 2.06.94-2.06 2.06-.94-2.06-.94-.94-2.06-.94 2.06-2.06.94zm-11 1L8.5 8.5l.94-2.06 2.06-.94-2.06-.94L8.5 2.5l-.94 2.06-2.06.94zm10 10l.94 2.06.94-2.06 2.06-.94-2.06-.94-.94-2.06-.94 2.06-2.06.94z\"/><path d=\"M17.41 7.96l-1.37-1.37c-.4-.4-.92-.59-1.43-.59-.52 0-1.04.2-1.43.59L10.3 9.45l-7.72 7.72c-.78.78-.78 2.05 0 2.83L4 21.41c.39.39.9.59 1.41.59.51 0 1.02-.2 1.41-.59l7.78-7.78 2.81-2.81c.8-.78.8-2.07 0-2.86zM5.41 20L4 18.59l7.72-7.72 1.47 1.35L5.41 20z\"/>\n",
              "  </svg>\n",
              "      </button>\n",
              "      \n",
              "  <style>\n",
              "    .colab-df-container {\n",
              "      display:flex;\n",
              "      flex-wrap:wrap;\n",
              "      gap: 12px;\n",
              "    }\n",
              "\n",
              "    .colab-df-convert {\n",
              "      background-color: #E8F0FE;\n",
              "      border: none;\n",
              "      border-radius: 50%;\n",
              "      cursor: pointer;\n",
              "      display: none;\n",
              "      fill: #1967D2;\n",
              "      height: 32px;\n",
              "      padding: 0 0 0 0;\n",
              "      width: 32px;\n",
              "    }\n",
              "\n",
              "    .colab-df-convert:hover {\n",
              "      background-color: #E2EBFA;\n",
              "      box-shadow: 0px 1px 2px rgba(60, 64, 67, 0.3), 0px 1px 3px 1px rgba(60, 64, 67, 0.15);\n",
              "      fill: #174EA6;\n",
              "    }\n",
              "\n",
              "    [theme=dark] .colab-df-convert {\n",
              "      background-color: #3B4455;\n",
              "      fill: #D2E3FC;\n",
              "    }\n",
              "\n",
              "    [theme=dark] .colab-df-convert:hover {\n",
              "      background-color: #434B5C;\n",
              "      box-shadow: 0px 1px 3px 1px rgba(0, 0, 0, 0.15);\n",
              "      filter: drop-shadow(0px 1px 2px rgba(0, 0, 0, 0.3));\n",
              "      fill: #FFFFFF;\n",
              "    }\n",
              "  </style>\n",
              "\n",
              "      <script>\n",
              "        const buttonEl =\n",
              "          document.querySelector('#df-97c61e67-1634-4b82-a774-3018661713c7 button.colab-df-convert');\n",
              "        buttonEl.style.display =\n",
              "          google.colab.kernel.accessAllowed ? 'block' : 'none';\n",
              "\n",
              "        async function convertToInteractive(key) {\n",
              "          const element = document.querySelector('#df-97c61e67-1634-4b82-a774-3018661713c7');\n",
              "          const dataTable =\n",
              "            await google.colab.kernel.invokeFunction('convertToInteractive',\n",
              "                                                     [key], {});\n",
              "          if (!dataTable) return;\n",
              "\n",
              "          const docLinkHtml = 'Like what you see? Visit the ' +\n",
              "            '<a target=\"_blank\" href=https://colab.research.google.com/notebooks/data_table.ipynb>data table notebook</a>'\n",
              "            + ' to learn more about interactive tables.';\n",
              "          element.innerHTML = '';\n",
              "          dataTable['output_type'] = 'display_data';\n",
              "          await google.colab.output.renderOutput(dataTable, element);\n",
              "          const docLink = document.createElement('div');\n",
              "          docLink.innerHTML = docLinkHtml;\n",
              "          element.appendChild(docLink);\n",
              "        }\n",
              "      </script>\n",
              "    </div>\n",
              "  </div>\n",
              "  "
            ]
          },
          "metadata": {},
          "execution_count": 15
        }
      ]
    },
    {
      "cell_type": "code",
      "source": [
        "X.mean()"
      ],
      "metadata": {
        "id": "mmZgdsbOtYty",
        "colab": {
          "base_uri": "https://localhost:8080/"
        },
        "outputId": "87e9b5d7-a062-4d85-dea8-5db29065967e"
      },
      "execution_count": null,
      "outputs": [
        {
          "output_type": "execute_result",
          "data": {
            "text/plain": [
              "Type                1.457614\n",
              "Age                10.452078\n",
              "Breed1            265.272594\n",
              "Breed2             74.009738\n",
              "Gender              1.776162\n",
              "Color1              2.234176\n",
              "Color2              3.222837\n",
              "Color3              1.882012\n",
              "MaturitySize        1.862002\n",
              "FurLength           1.467485\n",
              "Vaccinated          1.731208\n",
              "Dewormed            1.558727\n",
              "Sterilized          1.914227\n",
              "Health              1.036617\n",
              "Quantity            1.576069\n",
              "Fee                21.259988\n",
              "State           41346.028347\n",
              "VideoAmt            0.056760\n",
              "PhotoAmt            3.889215\n",
              "dtype: float64"
            ]
          },
          "metadata": {},
          "execution_count": 16
        }
      ]
    },
    {
      "cell_type": "markdown",
      "source": [
        "## SVM"
      ],
      "metadata": {
        "id": "B8Bna1dXcmaN"
      }
    },
    {
      "cell_type": "code",
      "source": [
        "# SVM\n",
        "# import SVM libraries \n",
        "from sklearn.svm import SVC\n",
        "from sklearn.metrics import classification_report, roc_auc_score\n",
        "from sklearn.pipeline import make_pipeline\n",
        "from sklearn.preprocessing import StandardScaler\n",
        "from sklearn.model_selection import cross_val_score\n",
        "\n",
        "svm = make_pipeline(StandardScaler(), SVC(gamma='auto'))\n",
        "svm.fit(X_SMOTE, y_SMOTE)\n",
        "\n",
        "# use cross validation to tune our model\n",
        "score = cross_val_score(svm, X_SMOTE, y_SMOTE, cv=5)\n",
        "recall = cross_val_score(svm, X_SMOTE, y_SMOTE, cv=5, scoring=\"recall\") # Find the real true\n",
        "precision = cross_val_score(svm, X_SMOTE, y_SMOTE, cv=5, scoring=\"precision\") # Find the real false \n"
      ],
      "metadata": {
        "id": "3NE9HqvLcoM3"
      },
      "execution_count": null,
      "outputs": []
    },
    {
      "cell_type": "code",
      "source": [
        "svm_accuracy = score.mean()*100\n",
        "svm_recall = recall.mean()*100\n",
        "svm_precision = precision.mean()*100\n",
        "\n",
        "print(\"Accuracy of the SVM model is : {:.2f}%\".format(svm_accuracy))\n",
        "print(\"Recall of the SVM model is : {:.2f}%\".format(svm_recall))\n",
        "print(\"Precision of the SVM model is : {:.2f}%\".format(svm_precision))"
      ],
      "metadata": {
        "id": "WlbcX0NQfybT",
        "colab": {
          "base_uri": "https://localhost:8080/"
        },
        "outputId": "dadf79c7-c107-4926-c73e-0df2cc5310fe"
      },
      "execution_count": null,
      "outputs": [
        {
          "output_type": "stream",
          "name": "stdout",
          "text": [
            "Accuracy of the SVM model is : 86.85%\n",
            "Recall of the SVM model is : 90.64%\n",
            "Precision of the SVM model is : 84.27%\n"
          ]
        }
      ]
    },
    {
      "cell_type": "markdown",
      "source": [
        "## Logistic Regression"
      ],
      "metadata": {
        "id": "hw0duIAAoG2F"
      }
    },
    {
      "cell_type": "code",
      "source": [
        "from sklearn.linear_model import LogisticRegression\n",
        "\n",
        "\n",
        "# fit and apply the transform - SMOTE the training dataset \n",
        "X_train_SMOTE, y_train_SMOTE = SMOTE.fit_resample(X_train, y_train)\n",
        "\n",
        "# Feature Scaling / Standarization \n",
        "from sklearn.preprocessing import StandardScaler\n",
        "scaler = StandardScaler()\n",
        "X_train_SMOTE_scaled = scaler.fit_transform(X_train_SMOTE)\n",
        "X_val_scaled = scaler.transform(X_val)\n",
        "\n",
        "lr = LogisticRegression(solver='liblinear', C=10.0, random_state=123)\n",
        "lr.fit(X_train_SMOTE, y_train_SMOTE)\n",
        "\n",
        "lr_pred = lr.predict(X_val)\n",
        "lr_accuracy= accuracy_score(y_val, lr_pred)*100\n",
        "lr_conf_m = confusion_matrix(y_val, lr_pred)\n",
        "\n",
        "\n",
        "print(\"Accuracy of the logistic regression is : {:.2f}%\".format(lr_accuracy))\n",
        "print(lr_conf_m)"
      ],
      "metadata": {
        "id": "xnPYNePJoKO9",
        "colab": {
          "base_uri": "https://localhost:8080/"
        },
        "outputId": "caa8c491-06aa-442f-d472-cd7a8aecf3f6"
      },
      "execution_count": null,
      "outputs": [
        {
          "output_type": "stream",
          "name": "stdout",
          "text": [
            "Accuracy of the logistic regression is : 68.36%\n",
            "[[2024  901]\n",
            " [  48   26]]\n"
          ]
        }
      ]
    },
    {
      "cell_type": "markdown",
      "source": [
        "## k-NN"
      ],
      "metadata": {
        "id": "neopfdi_eK85"
      }
    },
    {
      "cell_type": "code",
      "source": [
        "from sklearn.neighbors import KNeighborsClassifier\n",
        "from sklearn.metrics import confusion_matrix, plot_confusion_matrix, accuracy_score\n",
        "\n",
        "# fit and apply the transform - SMOTE the training dataset \n",
        "X_train_SMOTE, y_train_SMOTE = SMOTE.fit_resample(X_train, y_train)"
      ],
      "metadata": {
        "id": "yAWW1cc-eONc"
      },
      "execution_count": null,
      "outputs": []
    },
    {
      "cell_type": "code",
      "source": [
        "# Feature Scaling / Standarization \n",
        "from sklearn.preprocessing import StandardScaler\n",
        "scaler = StandardScaler()\n",
        "X_train_SMOTE_scaled = scaler.fit_transform(X_train_SMOTE)\n",
        "X_val_scaled = scaler.transform(X_val)"
      ],
      "metadata": {
        "id": "VGuePbMYeblA"
      },
      "execution_count": null,
      "outputs": []
    },
    {
      "cell_type": "code",
      "source": [
        "# We first create a KNN classifier instance and then prepare a range of values of hyperparameter K \n",
        "# from 5 to 20 that will be used by GridSearchCV to find the best value of K.\n",
        "\n",
        "\n",
        "# Furthermore, we set our cross-validation batch sizes cv = 10 and set scoring metrics as accuracy as our preference.\n",
        "knn = KNeighborsClassifier()\n",
        "from sklearn.model_selection import GridSearchCV\n",
        "k_range = list(range(5, 20))\n",
        "param_grid = dict(n_neighbors=k_range)\n",
        "\n",
        "# defining parameter range\n",
        "grid = GridSearchCV(knn, param_grid, cv=10, scoring='accuracy', return_train_score=False,verbose=1)\n",
        "  \n",
        "# fitting the model for grid search\n",
        "grid_search=grid.fit(X_train_SMOTE_scaled, y_train_SMOTE)"
      ],
      "metadata": {
        "colab": {
          "base_uri": "https://localhost:8080/"
        },
        "id": "vJRftB42egYe",
        "outputId": "7aa2d1e8-1561-41ac-a839-d58458019b90"
      },
      "execution_count": null,
      "outputs": [
        {
          "output_type": "stream",
          "name": "stdout",
          "text": [
            "Fitting 10 folds for each of 15 candidates, totalling 150 fits\n"
          ]
        }
      ]
    },
    {
      "cell_type": "code",
      "source": [
        "# find the best k\n",
        "print(grid_search.best_params_)"
      ],
      "metadata": {
        "colab": {
          "base_uri": "https://localhost:8080/"
        },
        "id": "uKHLXkioekV5",
        "outputId": "bda873d5-c130-4c2a-ea44-fbcd9a8c5be5"
      },
      "execution_count": null,
      "outputs": [
        {
          "output_type": "stream",
          "name": "stdout",
          "text": [
            "{'n_neighbors': 6}\n"
          ]
        }
      ]
    },
    {
      "cell_type": "code",
      "source": [
        "knn = KNeighborsClassifier(n_neighbors=6)\n",
        "\n",
        "knn.fit(X_train_SMOTE_scaled, y_train_SMOTE)\n",
        "\n",
        "knn_pred = knn.predict(X_val_scaled) \n",
        "knn_accuracy = accuracy_score(y_val,knn_pred)*100\n",
        "knn_conf_m = confusion_matrix(y_val, knn_pred)\n",
        "\n",
        "print(\"Accuracy of the k-NN model is : {:.2f}%\".format(knn_accuracy))\n",
        "print(knn_conf_m)"
      ],
      "metadata": {
        "colab": {
          "base_uri": "https://localhost:8080/"
        },
        "id": "INVlM9sEep0q",
        "outputId": "c0fc969b-f165-49f7-9fe2-ab5e2d1d3a1e"
      },
      "execution_count": null,
      "outputs": [
        {
          "output_type": "stream",
          "name": "stdout",
          "text": [
            "Accuracy of the k-NN model is : 82.59%\n",
            "[[2455  468]\n",
            " [  54   22]]\n"
          ]
        }
      ]
    },
    {
      "cell_type": "markdown",
      "source": [
        "## Naive Bayes "
      ],
      "metadata": {
        "id": "ZoD9XlWFgI-Q"
      }
    },
    {
      "cell_type": "code",
      "source": [
        "from sklearn.naive_bayes import GaussianNB\n",
        "\n",
        "# fit and apply the transform - SMOTE the training dataset \n",
        "X_train_SMOTE, y_train_SMOTE = SMOTE.fit_resample(X_train, y_train)\n",
        "\n",
        "# Feature Scaling / Standarization \n",
        " \n",
        "from sklearn.preprocessing import StandardScaler\n",
        "\n",
        "scaler = StandardScaler()\n",
        "X_train_SMOTE_scaled = scaler.fit_transform(X_train_SMOTE)\n",
        "X_val_scaled = scaler.transform(X_val)\n",
        "\n",
        "\n",
        "nb = GaussianNB()\n",
        "nb.fit(X_train_SMOTE_scaled, y_train_SMOTE)\n",
        "nb_pred = nb.predict(X_val_scaled)\n",
        "nb_accuracy = accuracy_score(y_val,nb_pred)*100\n",
        "nb_conf_m = confusion_matrix(y_val, nb_pred)\n",
        "\n",
        "print(\"Accuracy of the Naive Bayes model is : {:.2f}%\".format(nb_accuracy))\n",
        "print(nb_conf_m)\n"
      ],
      "metadata": {
        "colab": {
          "base_uri": "https://localhost:8080/"
        },
        "id": "m434wqSIgMNz",
        "outputId": "d1d6ed49-c35d-41a6-cef1-8c166f6af976"
      },
      "execution_count": null,
      "outputs": [
        {
          "output_type": "stream",
          "name": "stdout",
          "text": [
            "Accuracy of the Naive Bayes model is : 32.98%\n",
            "[[ 940 1983]\n",
            " [  27   49]]\n"
          ]
        }
      ]
    },
    {
      "cell_type": "markdown",
      "source": [
        "## Decision Tree"
      ],
      "metadata": {
        "id": "SdRPme5ylF1k"
      }
    },
    {
      "cell_type": "code",
      "source": [
        "# fit and apply the transform - SMOTE the training dataset \n",
        "X_train_SMOTE, y_train_SMOTE = SMOTE.fit_resample(X_train, y_train)\n",
        "\n",
        "from sklearn.tree import DecisionTreeClassifier\n",
        "dt = DecisionTreeClassifier(random_state=123)\n",
        "dt.fit(X_train_SMOTE, y_train_SMOTE)\n",
        "dt_pred = dt.predict(X_val)\n",
        "dt_accuracy = accuracy_score(y_val, dt_pred)*100\n",
        "dt_conf_m = confusion_matrix(y_val, dt_pred)\n",
        "\n",
        "print(\"Accuracy of the Decision Tree model is : {:.2f}%\".format(dt_accuracy))\n",
        "print(dt_conf_m)"
      ],
      "metadata": {
        "colab": {
          "base_uri": "https://localhost:8080/"
        },
        "id": "to_HOcxBlKhU",
        "outputId": "b7d776b6-5797-447d-a3bb-1780a0211ca2"
      },
      "execution_count": null,
      "outputs": [
        {
          "output_type": "stream",
          "name": "stdout",
          "text": [
            "Accuracy of the Decision Tree model is : 92.76%\n",
            "[[2770  153]\n",
            " [  64   12]]\n"
          ]
        }
      ]
    },
    {
      "cell_type": "markdown",
      "source": [
        "## XGBoost"
      ],
      "metadata": {
        "id": "o2g_yRDplboS"
      }
    },
    {
      "cell_type": "code",
      "source": [
        "import xgboost as xgb\n",
        "# fit and apply the transform - SMOTE the training dataset \n",
        "X_train_SMOTE, y_train_SMOTE = SMOTE.fit_resample(X_train, y_train)\n",
        "\n",
        "xgb = xgb.XGBClassifier()\n",
        "xgb.fit(X_train_SMOTE,y_train_SMOTE)\n",
        "xgb_pred = xgb.predict(X_val)\n",
        "xgb_accuracy = accuracy_score(y_val, xgb_pred)*100\n",
        "xgb_conf_m = confusion_matrix(y_val, xgb_pred)\n",
        "\n",
        "print(\"Accuracy of the XGBoost model is : {:.2f}%\".format(xgb_accuracy))\n",
        "print(xgb_conf_m)"
      ],
      "metadata": {
        "colab": {
          "base_uri": "https://localhost:8080/"
        },
        "id": "Dxxet5hPliFG",
        "outputId": "edb39924-c051-4050-e266-947c56095260"
      },
      "execution_count": null,
      "outputs": [
        {
          "output_type": "stream",
          "name": "stdout",
          "text": [
            "Accuracy of the XGBoost model is : 93.66%\n",
            "[[2802  121]\n",
            " [  69    7]]\n"
          ]
        }
      ]
    },
    {
      "cell_type": "markdown",
      "source": [
        "## Random Forest "
      ],
      "metadata": {
        "id": "cWDSg1OKx4iN"
      }
    },
    {
      "cell_type": "code",
      "source": [
        "from sklearn.ensemble import RandomForestClassifier\n",
        "\n",
        "rf = RandomForestClassifier() \n",
        "rf_model = rf.fit(X_train_SMOTE, y_train_SMOTE)\n",
        "rf_pred = rf.predict(X_val)\n",
        "rf_accuracy = accuracy_score(y_val, rf_pred)*100 \n",
        "rf_conf_m = confusion_matrix(y_val, rf_pred)\n",
        " \n",
        "print(\"Accuracy of the Random Forest is : {:.2f}%\".format(rf_accuracy))\n",
        "print(rf_conf_m)"
      ],
      "metadata": {
        "colab": {
          "base_uri": "https://localhost:8080/"
        },
        "id": "entHLHu4x61B",
        "outputId": "0cf1adc8-b266-4dd5-ab3a-bc55819f7511"
      },
      "execution_count": null,
      "outputs": [
        {
          "output_type": "stream",
          "name": "stdout",
          "text": [
            "Accuracy of the Random Forest is : 95.80%\n",
            "[[2864   59]\n",
            " [  67    9]]\n"
          ]
        }
      ]
    },
    {
      "cell_type": "markdown",
      "source": [
        "## Implant Testing Dataset"
      ],
      "metadata": {
        "id": "HGenKrscydP-"
      }
    },
    {
      "cell_type": "code",
      "source": [
        "test_pred = rf_model.predict(X_test)\n",
        "\n",
        "\n",
        "test_accuracy = accuracy_score(y_test, test_pred)*100\n",
        "test_conf_m = confusion_matrix(y_test, test_pred)\n",
        "\n",
        "print(\"Accuracy of the testing dataset using Random Forest model is : {:.2f}%\".format(test_accuracy))\n",
        "print(test_conf_m)"
      ],
      "metadata": {
        "colab": {
          "base_uri": "https://localhost:8080/"
        },
        "id": "wtSJDasRhO23",
        "outputId": "5f3207f0-ba37-475c-f90b-f6d5ac3a487d"
      },
      "execution_count": null,
      "outputs": [
        {
          "output_type": "stream",
          "name": "stdout",
          "text": [
            "Accuracy of the testing dataset using Random Forest model is : 95.47%\n",
            "[[2863   39]\n",
            " [  97    0]]\n"
          ]
        }
      ]
    }
  ]
}